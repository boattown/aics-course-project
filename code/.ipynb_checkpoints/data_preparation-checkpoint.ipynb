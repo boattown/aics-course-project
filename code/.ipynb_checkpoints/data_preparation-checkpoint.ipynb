{
 "cells": [
  {
   "cell_type": "markdown",
   "id": "neither-snapshot",
   "metadata": {},
   "source": [
    "# 1. Data preparation"
   ]
  },
  {
   "cell_type": "markdown",
   "id": "covered-tuning",
   "metadata": {},
   "source": [
    "(Consider splitting into train/val/test considering the affordances of the objects instead of randomly, so that e.g. pen, telescope and laptop are in the train set and pencil, microscope and desktop computer in the test set.)\n",
    "\n",
    "\n",
    "(Also, consider adding multiple images of each object. This way, the model can train on mapping object with its affordances multiple times.)"
   ]
  },
  {
   "cell_type": "code",
   "execution_count": null,
   "id": "accredited-chaos",
   "metadata": {},
   "outputs": [],
   "source": [
    "from transformers import VisualBertModel, BertModel, BertTokenizer\n",
    "import torch\n",
    "import torch.nn as nn\n",
    "import torch.nn.functional as F\n",
    "from torch.utils.data import DataLoader\n",
    "import pandas as pd\n",
    "import numpy as np\n",
    "import matplotlib.pyplot as plt\n",
    "import torch.optim as optim"
   ]
  },
  {
   "cell_type": "code",
   "execution_count": null,
   "id": "ideal-chrome",
   "metadata": {},
   "outputs": [],
   "source": [
    "def clean_up(object_name):\n",
    "    clean_object_name = ''\n",
    "    for char in object_name:\n",
    "        if char == '_':\n",
    "            clean_object_name += ' '\n",
    "        elif char == '.':\n",
    "            break\n",
    "        else:\n",
    "            clean_object_name += char\n",
    "    return clean_object_name"
   ]
  },
  {
   "cell_type": "code",
   "execution_count": null,
   "id": "recorded-spelling",
   "metadata": {},
   "outputs": [],
   "source": [
    "file = '../data/affordance_annotations.txt'\n",
    "df = pd.read_csv(file)\n",
    "df.rename(columns = {'Unnamed: 0':'Object'}, inplace = True)\n",
    "df['Object'] = df['Object'].apply(clean_up)\n",
    "df.columns = ['Object','ImageNet synset','grasp','lift','throw','push','fix','ride','play','watch','sit on','feed','row','pour from','look through','write with', 'type on']"
   ]
  },
  {
   "cell_type": "code",
   "execution_count": null,
   "id": "checked-cornell",
   "metadata": {},
   "outputs": [],
   "source": [
    "df"
   ]
  },
  {
   "cell_type": "code",
   "execution_count": null,
   "id": "cb41df7b",
   "metadata": {},
   "outputs": [],
   "source": [
    "unique_objects = list(df['Object'])\n",
    "unique_affordances = [affordance.lower() for affordance in df.columns[2:]]"
   ]
  },
  {
   "cell_type": "code",
   "execution_count": null,
   "id": "7e7c1bf6",
   "metadata": {},
   "outputs": [],
   "source": [
    "unique_objects"
   ]
  },
  {
   "cell_type": "code",
   "execution_count": null,
   "id": "5312bbe4",
   "metadata": {},
   "outputs": [],
   "source": [
    "unique_affordances"
   ]
  },
  {
   "cell_type": "code",
   "execution_count": null,
   "id": "64b2d0c5",
   "metadata": {},
   "outputs": [],
   "source": [
    "word_to_index = {}\n",
    "index_to_word = {}\n",
    "indices = list(range(77))\n",
    "\n",
    "for i, word in enumerate(unique_objects + unique_affordances):\n",
    "    word_to_index[word] = i\n",
    "    index_to_word[i] = word"
   ]
  },
  {
   "cell_type": "code",
   "execution_count": null,
   "id": "1d9e7af0",
   "metadata": {},
   "outputs": [],
   "source": [
    "word_to_index['automobile engine']"
   ]
  },
  {
   "cell_type": "code",
   "execution_count": null,
   "id": "f4c58f53",
   "metadata": {},
   "outputs": [],
   "source": [
    "index_to_word[0]"
   ]
  },
  {
   "cell_type": "code",
   "execution_count": null,
   "id": "ab113a53",
   "metadata": {},
   "outputs": [],
   "source": [
    "df"
   ]
  },
  {
   "cell_type": "code",
   "execution_count": null,
   "id": "606420fa",
   "metadata": {},
   "outputs": [],
   "source": [
    "baseline_dict_objects = dict.fromkeys(unique_objects, 0)\n",
    "for index, row in df.iterrows():\n",
    "        for i, value in enumerate(row):\n",
    "            if type(value) == str:\n",
    "                pass\n",
    "            else:\n",
    "                baseline_dict_objects[row[0]] += value\n",
    "                \n",
    "baseline_total_objects = 0\n",
    "for k,v in baseline_dict_objects.items():\n",
    "    baseline_dict_objects[k] = np.round((v * 100)/15, 2)\n",
    "    baseline_total_objects += v\n",
    "\n",
    "baseline_total_objects = np.round((baseline_total_objects/(15*62))*100,2)\n",
    "print(f'{100-baseline_total_objects} %')"
   ]
  },
  {
   "cell_type": "code",
   "execution_count": null,
   "id": "6e25b34d",
   "metadata": {},
   "outputs": [],
   "source": [
    "baseline_dict_objects"
   ]
  },
  {
   "cell_type": "code",
   "execution_count": null,
   "id": "09a8e058",
   "metadata": {},
   "outputs": [],
   "source": [
    "baseline_dict_affordances = dict.fromkeys(unique_affordances, 0)\n",
    "\n",
    "for index, row in df.iterrows():\n",
    "    for k in baseline_dict_affordances.keys():\n",
    "        baseline_dict_affordances[k] += row[k]\n",
    "        \n",
    "baseline_total_affordances = 0\n",
    "for k,v in baseline_dict_affordances.items():\n",
    "    baseline_dict_affordances[k] = np.round((v * 100)/62, 2)\n",
    "    baseline_total_affordances += v\n",
    "\n",
    "baseline_total_affordances = np.round((baseline_total_affordances/(15*62))*100,2)\n",
    "print(f'{baseline_total_objects} %')"
   ]
  },
  {
   "cell_type": "code",
   "execution_count": null,
   "id": "9b5d86a3",
   "metadata": {},
   "outputs": [],
   "source": [
    "baseline_dict_affordances"
   ]
  },
  {
   "cell_type": "markdown",
   "id": "solid-miami",
   "metadata": {},
   "source": [
    "## 1.1 Pairs of objects and their affordances"
   ]
  },
  {
   "cell_type": "code",
   "execution_count": null,
   "id": "presidential-stage",
   "metadata": {},
   "outputs": [],
   "source": [
    "df1 = df.sample(frac=1, random_state=42).reset_index(drop=True)"
   ]
  },
  {
   "cell_type": "code",
   "execution_count": null,
   "id": "checked-anniversary",
   "metadata": {},
   "outputs": [],
   "source": [
    "train1 = df1[:42]\n",
    "val1 = df1[42:52]\n",
    "test1 = df1[52:]"
   ]
  },
  {
   "cell_type": "code",
   "execution_count": null,
   "id": "quarterly-element",
   "metadata": {},
   "outputs": [],
   "source": [
    "def get_gold_data_1(table):\n",
    "    gold_data_pairs = []\n",
    "    for index, row in table.iterrows():\n",
    "        for i, value in enumerate(row):\n",
    "            if type(value) == str:\n",
    "                pass\n",
    "            else:\n",
    "                gold_data_pairs.append((row[0],table.columns[i].lower(),value))\n",
    "    return gold_data_pairs"
   ]
  },
  {
   "cell_type": "code",
   "execution_count": null,
   "id": "respiratory-forwarding",
   "metadata": {},
   "outputs": [],
   "source": [
    "train1_pairs = get_gold_data_1(train1)\n",
    "val1_pairs = get_gold_data_1(val1)\n",
    "test1_pairs = get_gold_data_1(test1)"
   ]
  },
  {
   "cell_type": "code",
   "execution_count": null,
   "id": "quiet-zealand",
   "metadata": {},
   "outputs": [],
   "source": [
    "train1_pairs"
   ]
  },
  {
   "cell_type": "code",
   "execution_count": null,
   "id": "f62c9fae",
   "metadata": {},
   "outputs": [],
   "source": [
    "val1_pairs"
   ]
  },
  {
   "cell_type": "markdown",
   "id": "6f47db84",
   "metadata": {},
   "source": [
    "# 2. Extracting Embeddings"
   ]
  },
  {
   "cell_type": "code",
   "execution_count": null,
   "id": "ef6c7bca",
   "metadata": {},
   "outputs": [],
   "source": [
    "tokenizer = BertTokenizer.from_pretrained('bert-base-uncased')"
   ]
  },
  {
   "cell_type": "code",
   "execution_count": null,
   "id": "a32fd77b",
   "metadata": {},
   "outputs": [],
   "source": [
    "def tokenize_string(text):\n",
    "    marked_text = \"[CLS] \" + text + \" [SEP]\"\n",
    "    return tokenizer.tokenize(marked_text)"
   ]
  },
  {
   "cell_type": "markdown",
   "id": "addecc5d",
   "metadata": {},
   "source": [
    "## 2.1 BERT Embeddings"
   ]
  },
  {
   "cell_type": "code",
   "execution_count": null,
   "id": "7e0cea3a",
   "metadata": {},
   "outputs": [],
   "source": [
    "bert_model = BertModel.from_pretrained('bert-base-uncased',\n",
    "                                  output_hidden_states = True, # Whether the model returns all hidden-states.\n",
    "                                  )"
   ]
  },
  {
   "cell_type": "code",
   "execution_count": null,
   "id": "5f320465",
   "metadata": {},
   "outputs": [],
   "source": [
    "bert_model.eval()"
   ]
  },
  {
   "cell_type": "code",
   "execution_count": null,
   "id": "6d39c16d",
   "metadata": {},
   "outputs": [],
   "source": [
    "bert_word_to_embedding = {} # I create this embeddings dictionary so I can easily map words to embeddings\n",
    "\n",
    "with torch.no_grad():\n",
    "    \n",
    "    for subset in [train1_pairs + val1_pairs + test1_pairs]:\n",
    "    \n",
    "        for obj, affordance, truth_val in subset:\n",
    "\n",
    "            if obj not in bert_word_to_embedding.keys():\n",
    "                tokenized_obj = tokenize_string(obj)\n",
    "                indexed_obj = tokenizer.convert_tokens_to_ids(tokenized_obj)\n",
    "                segments_ids = [1] * len(tokenized_obj)\n",
    "                tokens_tensor = torch.tensor([indexed_obj])\n",
    "                segments_tensor = torch.tensor([segments_ids])\n",
    "\n",
    "                outputs = bert_model(tokens_tensor, segments_tensor)\n",
    "                hidden_states = outputs[2]\n",
    "                token_vecs = hidden_states[-2][0] # I take the penultimate layer\n",
    "                obj_embedding = torch.mean(token_vecs, dim=0) # I take the mean over the vectors for each token to get a representation of the whole input\n",
    "\n",
    "                bert_word_to_embedding[obj] = obj_embedding\n",
    "\n",
    "            if affordance not in bert_word_to_embedding.keys():\n",
    "                tokenized_affordance = tokenize_string(affordance)\n",
    "                indexed_affordance = tokenizer.convert_tokens_to_ids(tokenized_affordance)\n",
    "                segments_ids = [1] * len(tokenized_affordance)\n",
    "                tokens_tensor = torch.tensor([indexed_affordance])\n",
    "                segments_tensor = torch.tensor([segments_ids])\n",
    "\n",
    "                outputs = bert_model(tokens_tensor, segments_tensor)\n",
    "                hidden_states = outputs[2]\n",
    "                token_vecs = hidden_states[-2][0]\n",
    "                affordance_embedding = torch.mean(token_vecs, dim=0)\n",
    "\n",
    "                bert_word_to_embedding[affordance] = affordance_embedding\n"
   ]
  },
  {
   "cell_type": "code",
   "execution_count": null,
   "id": "759a1e53",
   "metadata": {},
   "outputs": [],
   "source": [
    "bert_word_to_embedding['coffee cup']"
   ]
  },
  {
   "cell_type": "code",
   "execution_count": null,
   "id": "151a7e49",
   "metadata": {},
   "outputs": [],
   "source": [
    "bert_word_to_embedding['grasp'].size()"
   ]
  },
  {
   "cell_type": "code",
   "execution_count": null,
   "id": "307c9e91",
   "metadata": {},
   "outputs": [],
   "source": [
    "len(bert_word_to_embedding)"
   ]
  },
  {
   "cell_type": "code",
   "execution_count": null,
   "id": "b4bf8134",
   "metadata": {},
   "outputs": [],
   "source": [
    "bert_embedding_to_word = dict(map(reversed, bert_word_to_embedding.items()))"
   ]
  },
  {
   "cell_type": "code",
   "execution_count": null,
   "id": "81a31bb4",
   "metadata": {},
   "outputs": [],
   "source": [
    "len(bert_embedding_to_word)"
   ]
  },
  {
   "cell_type": "code",
   "execution_count": null,
   "id": "6a226f74",
   "metadata": {},
   "outputs": [],
   "source": [
    "bert_embedding_to_word[bert_word_to_embedding['coffee cup']]"
   ]
  },
  {
   "cell_type": "markdown",
   "id": "bc434cfb",
   "metadata": {},
   "source": [
    "## 2.2 VisualBERT Embeddings"
   ]
  },
  {
   "cell_type": "code",
   "execution_count": null,
   "id": "6a75b4a5",
   "metadata": {},
   "outputs": [],
   "source": [
    "visual_bert_model = VisualBertModel.from_pretrained(\"uclanlp/visualbert-vqa-coco-pre\",output_hidden_states=True)"
   ]
  },
  {
   "cell_type": "code",
   "execution_count": null,
   "id": "f6a86a7e",
   "metadata": {},
   "outputs": [],
   "source": [
    "visual_bert_word_to_embedding = {} # I create this embeddings dictionary so I can easily map words to embeddings\n",
    "\n",
    "with torch.no_grad():\n",
    "    \n",
    "    for subset in [train1_pairs + val1_pairs + test1_pairs]:\n",
    "    \n",
    "        for obj, affordance, truth_val in subset:\n",
    "\n",
    "            if obj not in visual_bert_word_to_embedding.keys():\n",
    "                tokenized_obj = tokenize_string(obj)\n",
    "                indexed_obj = tokenizer.convert_tokens_to_ids(tokenized_obj)\n",
    "                segments_ids = [1] * len(tokenized_obj)\n",
    "                tokens_tensor = torch.tensor([indexed_obj])\n",
    "                segments_tensor = torch.tensor([segments_ids])\n",
    "\n",
    "                outputs = visual_bert_model(tokens_tensor, segments_tensor)\n",
    "                hidden_states = outputs[2]\n",
    "                token_vecs = hidden_states[-2][0] # I take the penultimate layer\n",
    "                obj_embedding = torch.mean(token_vecs, dim=0) # I take the mean over the vectors for each token to get a representation of the whole input\n",
    "\n",
    "                visual_bert_word_to_embedding[obj] = obj_embedding\n",
    "\n",
    "            if affordance not in visual_bert_word_to_embedding.keys():\n",
    "                tokenized_affordance = tokenize_string(affordance)\n",
    "                indexed_affordance = tokenizer.convert_tokens_to_ids(tokenized_affordance)\n",
    "                segments_ids = [1] * len(tokenized_affordance)\n",
    "                tokens_tensor = torch.tensor([indexed_affordance])\n",
    "                segments_tensor = torch.tensor([segments_ids])\n",
    "\n",
    "                outputs = visual_bert_model(tokens_tensor, segments_tensor)\n",
    "                hidden_states = outputs[2]\n",
    "                token_vecs = hidden_states[-2][0]\n",
    "                affordance_embedding = torch.mean(token_vecs, dim=0)\n",
    "\n",
    "                visual_bert_word_to_embedding[affordance] = affordance_embedding"
   ]
  },
  {
   "cell_type": "code",
   "execution_count": null,
   "id": "ea606301",
   "metadata": {},
   "outputs": [],
   "source": [
    "visual_bert_word_to_embedding['coffee cup']"
   ]
  },
  {
   "cell_type": "code",
   "execution_count": null,
   "id": "e5ec218f",
   "metadata": {},
   "outputs": [],
   "source": [
    "len(visual_bert_word_to_embedding)"
   ]
  },
  {
   "cell_type": "code",
   "execution_count": null,
   "id": "3a50164a",
   "metadata": {},
   "outputs": [],
   "source": [
    "visual_bert_embedding_to_word = dict(map(reversed, visual_bert_word_to_embedding.items()))"
   ]
  },
  {
   "cell_type": "code",
   "execution_count": null,
   "id": "2ae71317",
   "metadata": {},
   "outputs": [],
   "source": [
    "len(visual_bert_embedding_to_word)"
   ]
  },
  {
   "cell_type": "code",
   "execution_count": null,
   "id": "a98c1a59",
   "metadata": {},
   "outputs": [],
   "source": [
    "visual_bert_embedding_to_word[visual_bert_word_to_embedding['coffee cup']]"
   ]
  },
  {
   "cell_type": "code",
   "execution_count": null,
   "id": "0146481f",
   "metadata": {},
   "outputs": [],
   "source": []
  },
  {
   "cell_type": "code",
   "execution_count": null,
   "id": "221998e7",
   "metadata": {},
   "outputs": [],
   "source": []
  },
  {
   "cell_type": "markdown",
   "id": "fe5c586b",
   "metadata": {},
   "source": [
    "# 3. The probe model"
   ]
  },
  {
   "cell_type": "code",
   "execution_count": null,
   "id": "b89607ad",
   "metadata": {},
   "outputs": [],
   "source": [
    "bert_hyperparameters = {\n",
    "    \"model\":\"bert_probe\",\n",
    "    \"epochs\":300,\n",
    "    \"batch_size\":64,\n",
    "    \"learning_rate\":0.005}"
   ]
  },
  {
   "cell_type": "code",
   "execution_count": null,
   "id": "3a28c361",
   "metadata": {},
   "outputs": [],
   "source": [
    "visual_bert_hyperparameters = {\n",
    "    \"model\":\"visual_bert_probe\",\n",
    "    \"epochs\":300,\n",
    "    \"batch_size\":64,\n",
    "    \"learning_rate\":0.005}"
   ]
  },
  {
   "cell_type": "code",
   "execution_count": null,
   "id": "8c27ad80",
   "metadata": {},
   "outputs": [],
   "source": [
    "class Probe(nn.Module):\n",
    "    def __init__(self):\n",
    "        super(Probe, self).__init__()\n",
    "        self.sigmoid = nn.Sigmoid()\n",
    "        self.fc1 = nn.Linear(768, 128)\n",
    "        self.fc2 = nn.Linear(128,2)\n",
    "        self.softmax = nn.LogSoftmax(1)\n",
    "        \n",
    "    def forward(self, obj, affordance):\n",
    "        combined_vector = obj * affordance\n",
    "        x1 = self.sigmoid(combined_vector)\n",
    "        x2 = self.fc1(x1)\n",
    "        x3 = self.fc2(x2)\n",
    "        output = self.softmax(x3)\n",
    "        return output"
   ]
  },
  {
   "cell_type": "markdown",
   "id": "dd282151",
   "metadata": {},
   "source": [
    "# 4. Training"
   ]
  },
  {
   "cell_type": "code",
   "execution_count": null,
   "id": "ccade1fa",
   "metadata": {},
   "outputs": [],
   "source": [
    "train_data = [(bert_word_to_embedding[x], bert_word_to_embedding[y], visual_bert_word_to_embedding[x], visual_bert_word_to_embedding[y], z, word_to_index[x], word_to_index[y]) for x,y,z in train1_pairs]\n",
    "val_data = [(bert_word_to_embedding[x], bert_word_to_embedding[y], visual_bert_word_to_embedding[x], visual_bert_word_to_embedding[y], z, word_to_index[x], word_to_index[y]) for x,y,z in val1_pairs]\n",
    "test_data = [(bert_word_to_embedding[x], bert_word_to_embedding[y], visual_bert_word_to_embedding[x], visual_bert_word_to_embedding[y],z, word_to_index[x], word_to_index[y]) for x,y,z in test1_pairs]\n",
    "\n",
    "train_dataloader = DataLoader(train_data, batch_size=bert_hyperparameters[\"batch_size\"], shuffle=True)\n",
    "val_dataloader = DataLoader(val_data, batch_size=bert_hyperparameters[\"batch_size\"], shuffle=True)\n",
    "test_dataloader = DataLoader(test_data, batch_size=bert_hyperparameters[\"batch_size\"], shuffle=True)"
   ]
  },
  {
   "cell_type": "code",
   "execution_count": null,
   "id": "718d4e97",
   "metadata": {},
   "outputs": [],
   "source": [
    "# The structure in each bach is: \n",
    "# bert object embedding, \n",
    "# bert affordance embedding, \n",
    "# visualbert object embedding, \n",
    "# visualbert affordance embedding, \n",
    "# truth values,\n",
    "# object id\n",
    "# affordance id"
   ]
  },
  {
   "cell_type": "code",
   "execution_count": null,
   "id": "aae544a9",
   "metadata": {},
   "outputs": [],
   "source": [
    "next(iter(train_dataloader))"
   ]
  },
  {
   "cell_type": "markdown",
   "id": "9bedf1a7",
   "metadata": {},
   "source": [
    "## 4.1 Training the BERT Probe"
   ]
  },
  {
   "cell_type": "code",
   "execution_count": null,
   "id": "da58b5c9",
   "metadata": {},
   "outputs": [],
   "source": [
    "#device = \"cuda:3\" if torch.cuda.is_available() else \"cpu\"\n",
    "device = \"cpu\""
   ]
  },
  {
   "cell_type": "code",
   "execution_count": null,
   "id": "ab8a27f0",
   "metadata": {},
   "outputs": [],
   "source": [
    "def plot_accuracy(epochs, train_acc, val_acc):\n",
    "    plt.title(\"Training and Validation Accuracy\")\n",
    "    plt.xlabel(\"Epochs\")\n",
    "    plt.ylabel(\"Accuracy\")\n",
    "    plt.plot(epochs, train_acc, label=\"Training Accuracy\")\n",
    "    plt.plot(epochs, val_acc, label=\"Validation Accuracy\")\n",
    "    plt.legend()\n",
    "    plt.show()\n",
    "    return"
   ]
  },
  {
   "cell_type": "code",
   "execution_count": null,
   "id": "748f3171",
   "metadata": {},
   "outputs": [],
   "source": [
    "def plot_loss(epochs, train_loss, val_loss):\n",
    "    plt.title(\"Training and Validation Loss\")\n",
    "    plt.xlabel(\"Epochs\")\n",
    "    plt.ylabel(\"Loss\")\n",
    "    plt.plot(epochs, train_loss, label=\"Training Loss\")\n",
    "    plt.plot(epochs, val_loss, label=\"Validation Loss\")\n",
    "    plt.legend()\n",
    "    plt.show()\n",
    "    return"
   ]
  },
  {
   "cell_type": "code",
   "execution_count": null,
   "id": "4a68c858",
   "metadata": {},
   "outputs": [],
   "source": [
    "bert_probe = Probe()\n",
    "print(bert_probe)\n",
    "bert_probe.to(device)\n",
    "\n",
    "criterion = nn.NLLLoss()\n",
    "optimizer = optim.Adam(\n",
    "    bert_probe.parameters(),\n",
    "    lr=bert_hyperparameters[\"learning_rate\"]\n",
    ")\n",
    "\n",
    "epoch_list = []\n",
    "val_loss_list = []\n",
    "train_loss_list = []\n",
    "total_loss = 0\n",
    "\n",
    "train_accuracy_list = []\n",
    "val_accuracy_list = []\n",
    "\n",
    "for epoch in range(bert_hyperparameters[\"epochs\"]):\n",
    "    \n",
    "    # TRAIN LOOP\n",
    "    training_loss = 0\n",
    "    bert_probe.train()\n",
    "    \n",
    "    epoch_accuracy = 0\n",
    "    \n",
    "    for i, batch in enumerate(train_dataloader):\n",
    "        \n",
    "        obj = batch[0]\n",
    "        affordance = batch[1]\n",
    "        truth_value = batch[4]\n",
    "        \n",
    "        output = bert_probe(obj, affordance)\n",
    "        bert_loss = criterion(output,truth_value)\n",
    "        \n",
    "        bert_loss.backward()\n",
    "        optimizer.step()\n",
    "        optimizer.zero_grad()\n",
    "        \n",
    "        total_loss += bert_loss.item()\n",
    "        training_loss += bert_loss.item()\n",
    "        \n",
    "        # calculate training accuracy\n",
    "        prediction = torch.argmax(output, dim=1)\n",
    "        correct_predictions = torch.eq(prediction,truth_value).long()\n",
    "        batch_accuracy = float(sum(correct_predictions)/len(correct_predictions))\n",
    "        epoch_accuracy += batch_accuracy\n",
    "    \n",
    "    # VALIDATION LOOP\n",
    "    validation_loss = 0\n",
    "    bert_probe.eval()\n",
    "    \n",
    "    val_epoch_accuracy = 0\n",
    "    \n",
    "    for i, batch in enumerate(val_dataloader):\n",
    "        \n",
    "        obj = batch[0]\n",
    "        affordance = batch[1]\n",
    "        truth_value = batch[4]\n",
    "        \n",
    "        output = bert_probe(obj, affordance)\n",
    "        bert_loss = criterion(output,truth_value)\n",
    "        validation_loss += bert_loss.item()\n",
    "        \n",
    "        # calculate validation accuracy\n",
    "        prediction = torch.argmax(output, dim=1)\n",
    "        correct_predictions = torch.eq(prediction,truth_value).long()\n",
    "        batch_accuracy = float(sum(correct_predictions)/len(correct_predictions))\n",
    "        val_epoch_accuracy += batch_accuracy\n",
    "    \n",
    "    epoch_list.append(epoch+1)\n",
    "    training_loss_avg = training_loss/len(train_dataloader)\n",
    "    train_loss_list.append(training_loss_avg)\n",
    "    validation_loss_avg = validation_loss/len(val_dataloader)\n",
    "    val_loss_list.append(validation_loss_avg)\n",
    "    \n",
    "    train_accuracy_list.append(epoch_accuracy/len(train_dataloader))\n",
    "    val_accuracy_list.append(val_epoch_accuracy/len(val_dataloader))\n",
    "\n",
    "    print(\"Epoch: {}\".format(epoch+1))\n",
    "    print(\"Training loss: {}\".format(training_loss_avg))\n",
    "    print(\"Validation loss: {}\".format(validation_loss_avg))\n",
    "    print(\"Training accuracy: {}\".format(epoch_accuracy/len(train_dataloader)))\n",
    "    print(\"Validation accuracy: {}\".format(val_epoch_accuracy/len(val_dataloader)))\n",
    "    \n",
    "plot_loss(epoch_list, train_loss_list, val_loss_list)\n",
    "plot_accuracy(epoch_list, train_accuracy_list, val_accuracy_list)"
   ]
  },
  {
   "cell_type": "code",
   "execution_count": null,
   "id": "e51eee35",
   "metadata": {},
   "outputs": [],
   "source": [
    "torch.save(bert_probe.state_dict(), \"|\".join([f\"{k}_{v}\" for k, v in bert_hyperparameters.items()]))"
   ]
  },
  {
   "cell_type": "markdown",
   "id": "f0e773d8",
   "metadata": {},
   "source": [
    "## 4.2 Training the VisualBERT Probe"
   ]
  },
  {
   "cell_type": "code",
   "execution_count": null,
   "id": "3b344fbc",
   "metadata": {},
   "outputs": [],
   "source": [
    "visual_bert_probe = Probe()\n",
    "print(visual_bert_probe)\n",
    "visual_bert_probe.to(device)\n",
    "\n",
    "criterion = nn.NLLLoss()\n",
    "optimizer = optim.Adam(\n",
    "    visual_bert_probe.parameters(),\n",
    "    lr=visual_bert_hyperparameters[\"learning_rate\"]\n",
    ")\n",
    "\n",
    "epoch_list = []\n",
    "val_loss_list = []\n",
    "train_loss_list = []\n",
    "total_loss = 0\n",
    "\n",
    "train_accuracy_list = []\n",
    "val_accuracy_list = []\n",
    "\n",
    "for epoch in range(visual_bert_hyperparameters[\"epochs\"]):\n",
    "    \n",
    "    # TRAIN LOOP\n",
    "    training_loss = 0\n",
    "    visual_bert_probe.train()\n",
    "    \n",
    "    epoch_accuracy = 0\n",
    "    \n",
    "    for i, batch in enumerate(train_dataloader):\n",
    "        \n",
    "        obj = batch[2]\n",
    "        affordance = batch[3]\n",
    "        truth_value = batch[4]\n",
    "        \n",
    "        output = visual_bert_probe(obj, affordance)\n",
    "        visual_bert_loss = criterion(output,truth_value)\n",
    "        \n",
    "        visual_bert_loss.backward()\n",
    "        optimizer.step()\n",
    "        optimizer.zero_grad()\n",
    "        \n",
    "        total_loss += visual_bert_loss.item()\n",
    "        training_loss += visual_bert_loss.item()\n",
    "        \n",
    "        # calculate training accuracy\n",
    "        prediction = torch.argmax(output, dim=1)\n",
    "        correct_predictions = torch.eq(prediction,truth_value).long()\n",
    "        batch_accuracy = float(sum(correct_predictions)/len(correct_predictions))\n",
    "        epoch_accuracy += batch_accuracy\n",
    "    \n",
    "    # VALIDATION LOOP\n",
    "    validation_loss = 0\n",
    "    visual_bert_probe.eval()\n",
    "    \n",
    "    val_epoch_accuracy = 0\n",
    "    \n",
    "    for i, batch in enumerate(val_dataloader):\n",
    "        \n",
    "        \n",
    "        obj = batch[2]\n",
    "        affordance = batch[3]\n",
    "        truth_value = batch[4]\n",
    "        \n",
    "        output = visual_bert_probe(obj, affordance)\n",
    "        visual_bert_loss = criterion(output,truth_value)\n",
    "        validation_loss += visual_bert_loss.item()\n",
    "        \n",
    "        # calculate validation accuracy\n",
    "        prediction = torch.argmax(output, dim=1)\n",
    "        correct_predictions = torch.eq(prediction,truth_value).long()\n",
    "        batch_accuracy = float(sum(correct_predictions)/len(correct_predictions))\n",
    "        val_epoch_accuracy += batch_accuracy\n",
    "    \n",
    "    epoch_list.append(epoch+1)\n",
    "    training_loss_avg = training_loss/len(train_dataloader)\n",
    "    train_loss_list.append(training_loss_avg)\n",
    "    validation_loss_avg = validation_loss/len(val_dataloader)\n",
    "    val_loss_list.append(validation_loss_avg)\n",
    "    \n",
    "    train_accuracy_list.append(epoch_accuracy/len(train_dataloader))\n",
    "    val_accuracy_list.append(val_epoch_accuracy/len(val_dataloader))\n",
    "\n",
    "    print(\"Epoch: {}\".format(epoch+1))\n",
    "    print(\"Training loss: {}\".format(training_loss_avg))\n",
    "    print(\"Validation loss: {}\".format(validation_loss_avg))\n",
    "    print(\"Training accuracy: {}\".format(epoch_accuracy/len(train_dataloader)))\n",
    "    print(\"Validation accuracy: {}\".format(val_epoch_accuracy/len(val_dataloader)))\n",
    "    \n",
    "plot_loss(epoch_list, train_loss_list, val_loss_list)\n",
    "plot_accuracy(epoch_list, train_accuracy_list, val_accuracy_list)"
   ]
  },
  {
   "cell_type": "code",
   "execution_count": null,
   "id": "716d001e",
   "metadata": {},
   "outputs": [],
   "source": [
    "torch.save(visual_bert_probe.state_dict(), \"|\".join([f\"{k}_{v}\" for k, v in visual_bert_hyperparameters.items()]))"
   ]
  },
  {
   "cell_type": "markdown",
   "id": "781a8187",
   "metadata": {},
   "source": [
    "# 5. Testing"
   ]
  },
  {
   "cell_type": "code",
   "execution_count": null,
   "id": "c993ecf0",
   "metadata": {},
   "outputs": [],
   "source": []
  },
  {
   "cell_type": "markdown",
   "id": "8af71bbc",
   "metadata": {},
   "source": [
    "## 5.1 Testing the BERT Probe"
   ]
  },
  {
   "cell_type": "code",
   "execution_count": null,
   "id": "8f8a4923",
   "metadata": {},
   "outputs": [],
   "source": [
    "bert_probe.load_state_dict(torch.load(\"model_bert_probe|epochs_300|batch_size_64|learning_rate_0.005\"))"
   ]
  },
  {
   "cell_type": "code",
   "execution_count": null,
   "id": "da35df0d",
   "metadata": {},
   "outputs": [],
   "source": [
    "bert_probe = bert_probe.to(device)\n",
    "\n",
    "test_loss = 0\n",
    "bert_probe.eval()\n",
    "\n",
    "total = 0\n",
    "correct = 0\n",
    "\n",
    "per_word_total = dict.fromkeys(bert_word_to_embedding, 0)\n",
    "per_word_correct = dict.fromkeys(bert_word_to_embedding, 0)\n",
    "\n",
    "tp_bert = 0\n",
    "fp_bert = 0\n",
    "tn_bert = 0\n",
    "fn_bert = 0\n",
    "\n",
    "\n",
    "for i, batch in enumerate(test_dataloader):\n",
    "    \n",
    "    obj = batch[0]\n",
    "    affordance = batch[1]\n",
    "    target = batch[4]\n",
    "\n",
    "    with torch.no_grad(): \n",
    "        \n",
    "        output = bert_probe(obj, affordance)\n",
    "        \n",
    "        bert_loss = criterion(output, target)\n",
    "        test_loss += bert_loss.item()\n",
    "\n",
    "        # Calculate total accuracy\n",
    "        total += len(batch[0])\n",
    "        \n",
    "        prediction = torch.argmax(output, dim=1)\n",
    "        correct_predictions = torch.eq(prediction,target).long()\n",
    "        correct += float(sum(correct_predictions))\n",
    "\n",
    "        # Calculate per-object and per-affordance accuracy\n",
    "        object_indices = batch[5].tolist()\n",
    "        objects = [index_to_word[i] for i in object_indices]\n",
    "        affordance_indices = batch[6].tolist()\n",
    "        affordances = [index_to_word[i] for i in affordance_indices]\n",
    "        \n",
    "        for n,word in enumerate(objects):\n",
    "            if prediction[n] == target[n]:\n",
    "                per_word_correct[word] += 1\n",
    "            per_word_total[word] += 1\n",
    "            \n",
    "        for n,word in enumerate(affordances):\n",
    "            if prediction[n] == target[n]:\n",
    "                per_word_correct[word] += 1\n",
    "            per_word_total[word] += 1\n",
    "            \n",
    "        # Calculate tp,fp,tn,fn\n",
    "        for i, value in enumerate(prediction.tolist()):\n",
    "            if target.tolist()[i] == 1 and prediction.tolist()[i] == 1:\n",
    "                tp_bert += 1\n",
    "            elif target.tolist()[i] == 0 and prediction.tolist()[i] == 1:\n",
    "                fp_bert += 1\n",
    "            elif target.tolist()[i] == 1 and prediction.tolist()[i] == 0:\n",
    "                fn_bert += 1\n",
    "            elif target.tolist()[i] == 0 and prediction.tolist()[i] == 0:\n",
    "                tn_bert += 1\n",
    "        \n",
    "\n",
    "        print('>', np.round(test_loss/(i+1), 4), end='\\r')\n",
    "\n",
    "accuracy_bert_probe = correct / total\n",
    "per_object_accuracy_bert_probe = {word : (per_word_correct[word] / per_word_total[word]) for word in unique_objects if per_word_total[word] > 0}\n",
    "per_affordance_accuracy_bert_probe = {word : (per_word_correct[word] / per_word_total[word]) for word in unique_affordances if per_word_total[word] > 0}\n",
    "\n",
    "print(f'Total accuracy BERT probe: {np.round(accuracy_bert_probe * 100, 2)} %')\n",
    "print()\n",
    "\n",
    "print('Per-object accuracy BERT probe:')\n",
    "for k,v in per_object_accuracy_bert_probe.items():\n",
    "    print(f'{k} : {np.round(v * 100, 2)} %')\n",
    "print()\n",
    "    \n",
    "print('Per-affordance accuracy BERT probe:')\n",
    "for k,v in per_affordance_accuracy_bert_probe.items():\n",
    "    print(f'{k} : {np.round(v * 100, 2)} %')"
   ]
  },
  {
   "cell_type": "code",
   "execution_count": null,
   "id": "8c1b537b",
   "metadata": {},
   "outputs": [],
   "source": [
    "accuracy_bert = (tp_bert + tn_bert) / (tp_bert + fp_bert + tn_bert + fn_bert)\n",
    "accuracy_bert"
   ]
  },
  {
   "cell_type": "code",
   "execution_count": null,
   "id": "221a556b",
   "metadata": {},
   "outputs": [],
   "source": [
    "recall_bert = tp_bert / (tp_bert + fn_bert)\n",
    "recall_bert"
   ]
  },
  {
   "cell_type": "code",
   "execution_count": null,
   "id": "f3ef00db",
   "metadata": {},
   "outputs": [],
   "source": [
    "precision_bert = tp_bert / (tp_bert + fp_bert)\n",
    "precision_bert"
   ]
  },
  {
   "cell_type": "code",
   "execution_count": null,
   "id": "ae4f80c2",
   "metadata": {},
   "outputs": [],
   "source": [
    "f1 = (2 * recall_bert * precision_bert) / (recall_bert + precision_bert)\n",
    "f1"
   ]
  },
  {
   "cell_type": "markdown",
   "id": "4cc0f61e",
   "metadata": {},
   "source": [
    "## 5.2 Testing the VisualBERT Probe"
   ]
  },
  {
   "cell_type": "code",
   "execution_count": null,
   "id": "4b05c0a8",
   "metadata": {},
   "outputs": [],
   "source": [
    "visual_bert_probe.load_state_dict(torch.load(\"model_visual_bert_probe|epochs_300|batch_size_64|learning_rate_0.005\"))"
   ]
  },
  {
   "cell_type": "code",
   "execution_count": null,
   "id": "32736583",
   "metadata": {},
   "outputs": [],
   "source": [
    "visual_bert_probe = visual_bert_probe.to(device)\n",
    "test_loss = 0\n",
    "visual_bert_probe.eval()\n",
    "\n",
    "total = 0\n",
    "correct = 0\n",
    "\n",
    "per_word_total = dict.fromkeys(visual_bert_word_to_embedding, 0)\n",
    "per_word_correct = dict.fromkeys(visual_bert_word_to_embedding, 0)\n",
    "\n",
    "tp_visual_bert = 0\n",
    "fp_visual_bert = 0\n",
    "tn_visual_bert = 0\n",
    "fn_visual_bert = 0\n",
    "\n",
    "for i, batch in enumerate(test_dataloader):\n",
    "    \n",
    "    obj = batch[2]\n",
    "    affordance = batch[3]\n",
    "    target = batch[4]\n",
    "\n",
    "    with torch.no_grad(): \n",
    "        \n",
    "        output = visual_bert_probe(obj, affordance)\n",
    "        \n",
    "        visual_bert_loss = criterion(output, target)\n",
    "        test_loss += visual_bert_loss.item()\n",
    "\n",
    "        # Calculate total accuracy\n",
    "        total += len(batch[0])\n",
    "        \n",
    "        prediction = torch.argmax(output, dim=1)\n",
    "        correct_predictions = torch.eq(prediction,target).long()\n",
    "        correct += float(sum(correct_predictions))\n",
    "\n",
    "        # Calculate per word accuracy\n",
    "        object_indices = batch[5].tolist()\n",
    "        objects = [index_to_word[i] for i in object_indices]\n",
    "        affordance_indices = batch[6].tolist()\n",
    "        affordances = [index_to_word[i] for i in affordance_indices]\n",
    "        \n",
    "        for n,word in enumerate(objects):\n",
    "            if prediction[n] == target[n]:\n",
    "                per_word_correct[word] += 1\n",
    "            per_word_total[word] += 1\n",
    "            \n",
    "        for n,word in enumerate(affordances):\n",
    "            if prediction[n] == target[n]:\n",
    "                per_word_correct[word] += 1\n",
    "            per_word_total[word] += 1\n",
    "            \n",
    "        # Calculate tp,fp,tn,fn\n",
    "        for i, value in enumerate(prediction.tolist()):\n",
    "            if target.tolist()[i] == 1 and prediction.tolist()[i] == 1:\n",
    "                tp_visual_bert += 1\n",
    "            elif target.tolist()[i] == 0 and prediction.tolist()[i] == 1:\n",
    "                fp_visual_bert += 1\n",
    "            elif target.tolist()[i] == 1 and prediction.tolist()[i] == 0:\n",
    "                fn_visual_bert += 1\n",
    "            elif target.tolist()[i] == 0 and prediction.tolist()[i] == 0:\n",
    "                tn_visual_bert += 1\n",
    "\n",
    "        print('>', np.round(test_loss/(i+1), 4), end='\\r')\n",
    "\n",
    "accuracy_visual_bert_probe = correct / total\n",
    "per_object_accuracy_visual_bert_probe = {word : (per_word_correct[word] / per_word_total[word]) for word in unique_objects if per_word_total[word] > 0}\n",
    "per_affordance_accuracy_visual_bert_probe = {word : (per_word_correct[word] / per_word_total[word]) for word in unique_affordances if per_word_total[word] > 0}\n",
    "\n",
    "print(f'Total accuracy VisualBERT probe: {np.round(accuracy_visual_bert_probe * 100, 2)} %')\n",
    "print()\n",
    "\n",
    "print('Per-object accuracy VisualBERT probe:')\n",
    "for k,v in per_object_accuracy_visual_bert_probe.items():\n",
    "    print(f'{k} : {np.round(v * 100, 2)} %')\n",
    "print()\n",
    "\n",
    "print('Per-affordance accuracy VisualBERT probe:')\n",
    "for k,v in per_affordance_accuracy_visual_bert_probe.items():\n",
    "    print(f'{k} : {np.round(v * 100, 2)} %')\n"
   ]
  },
  {
   "cell_type": "code",
   "execution_count": null,
   "id": "57d37083",
   "metadata": {},
   "outputs": [],
   "source": [
    "accuracy_visual_bert = (tp_visual_bert + tn_visual_bert) / (tp_visual_bert + fp_visual_bert + tn_visual_bert + fn_visual_bert)\n",
    "accuracy_visual_bert"
   ]
  },
  {
   "cell_type": "code",
   "execution_count": null,
   "id": "ba2b800f",
   "metadata": {},
   "outputs": [],
   "source": [
    "recall_visual_bert = tp_visual_bert / (tp_visual_bert + fn_visual_bert)\n",
    "recall_visual_bert"
   ]
  },
  {
   "cell_type": "code",
   "execution_count": null,
   "id": "8908b6ed",
   "metadata": {},
   "outputs": [],
   "source": [
    "precision_visual_bert = tp_visual_bert / (tp_visual_bert + fp_visual_bert)\n",
    "precision_visual_bert\n",
    "\n",
    "## Check why the model is predicting only 0"
   ]
  },
  {
   "cell_type": "code",
   "execution_count": null,
   "id": "7e3facdb",
   "metadata": {},
   "outputs": [],
   "source": [
    "f1_visual_bert = (2 * recall_visual_bert * precision_visual_bert) / (recall_visual_bert + precision_visual_bert)\n",
    "f1_visual_bert"
   ]
  },
  {
   "cell_type": "code",
   "execution_count": null,
   "id": "ee32852d",
   "metadata": {},
   "outputs": [],
   "source": []
  }
 ],
 "metadata": {
  "kernelspec": {
   "display_name": "Python 3 (ipykernel)",
   "language": "python",
   "name": "python3"
  },
  "language_info": {
   "codemirror_mode": {
    "name": "ipython",
    "version": 3
   },
   "file_extension": ".py",
   "mimetype": "text/x-python",
   "name": "python",
   "nbconvert_exporter": "python",
   "pygments_lexer": "ipython3",
   "version": "3.9.6"
  }
 },
 "nbformat": 4,
 "nbformat_minor": 5
}
