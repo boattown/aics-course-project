{
 "cells": [
  {
   "cell_type": "markdown",
   "id": "neither-snapshot",
   "metadata": {},
   "source": [
    "# Data preparation"
   ]
  },
  {
   "cell_type": "markdown",
   "id": "covered-tuning",
   "metadata": {},
   "source": [
    "(Consider splitting into train/val/test considering the affordances of the objects instead of randomly, so that e.g. pen, telescope and laptop are in the train set and pencil, microscope and desktop computer in the test set.)\n",
    "\n",
    "\n",
    "(Also, consider adding multiple images of each object. This way, the model can train on mapping object with its affordances multiple times.)"
   ]
  },
  {
   "cell_type": "code",
   "execution_count": null,
   "id": "accredited-chaos",
   "metadata": {},
   "outputs": [],
   "source": [
    "from transformers import VisualBertModel, BertModel, BertTokenizer\n",
    "import torch\n",
    "import torch.nn as nn\n",
    "import torch.nn.functional as F\n",
    "from torch.utils.data import DataLoader\n",
    "import pandas as pd\n",
    "import matplotlib.pyplot as plt\n",
    "import torch.optim as optim"
   ]
  },
  {
   "cell_type": "code",
   "execution_count": null,
   "id": "ideal-chrome",
   "metadata": {},
   "outputs": [],
   "source": [
    "def clean_up(object_name):\n",
    "    clean_object_name = ''\n",
    "    for char in object_name:\n",
    "        if char == '_':\n",
    "            clean_object_name += ' '\n",
    "        elif char == '.':\n",
    "            break\n",
    "        else:\n",
    "            clean_object_name += char\n",
    "    return clean_object_name"
   ]
  },
  {
   "cell_type": "code",
   "execution_count": null,
   "id": "recorded-spelling",
   "metadata": {},
   "outputs": [],
   "source": [
    "file = '../data/affordance_annotations.txt'\n",
    "df = pd.read_csv(file)\n",
    "df.rename(columns = {'Unnamed: 0':'Object'}, inplace = True)\n",
    "df['Object'] = df['Object'].apply(clean_up)"
   ]
  },
  {
   "cell_type": "code",
   "execution_count": null,
   "id": "checked-cornell",
   "metadata": {},
   "outputs": [],
   "source": [
    "df"
   ]
  },
  {
   "cell_type": "code",
   "execution_count": null,
   "id": "cb41df7b",
   "metadata": {},
   "outputs": [],
   "source": [
    "unique_objects = list(df['Object'])\n",
    "unique_affordances = [affordance.lower() for affordance in df.columns[2:]]"
   ]
  },
  {
   "cell_type": "code",
   "execution_count": null,
   "id": "7e7c1bf6",
   "metadata": {},
   "outputs": [],
   "source": [
    "unique_objects"
   ]
  },
  {
   "cell_type": "code",
   "execution_count": null,
   "id": "5312bbe4",
   "metadata": {},
   "outputs": [],
   "source": [
    "unique_affordances"
   ]
  },
  {
   "cell_type": "markdown",
   "id": "solid-miami",
   "metadata": {},
   "source": [
    "## Approach 1 - pairs of objects and their affordances"
   ]
  },
  {
   "cell_type": "code",
   "execution_count": null,
   "id": "presidential-stage",
   "metadata": {},
   "outputs": [],
   "source": [
    "df1 = df.sample(frac=1, random_state=42).reset_index(drop=True)"
   ]
  },
  {
   "cell_type": "code",
   "execution_count": null,
   "id": "checked-anniversary",
   "metadata": {},
   "outputs": [],
   "source": [
    "train1 = df1[:42]\n",
    "val1 = df1[42:52]\n",
    "test1 = df1[52:]"
   ]
  },
  {
   "cell_type": "code",
   "execution_count": null,
   "id": "quarterly-element",
   "metadata": {},
   "outputs": [],
   "source": [
    "def get_gold_data_1(table):\n",
    "    gold_data_pairs = []\n",
    "    for index, row in table.iterrows():\n",
    "        for i, value in enumerate(row):\n",
    "            if type(value) == str:\n",
    "                pass\n",
    "            else:\n",
    "                gold_data_pairs.append((row[0],table.columns[i].lower(),value))\n",
    "    return gold_data_pairs"
   ]
  },
  {
   "cell_type": "code",
   "execution_count": null,
   "id": "respiratory-forwarding",
   "metadata": {},
   "outputs": [],
   "source": [
    "train1_pairs = get_gold_data_1(train1)\n",
    "val1_pairs = get_gold_data_1(val1)\n",
    "test1_pairs = get_gold_data_1(test1)"
   ]
  },
  {
   "cell_type": "code",
   "execution_count": null,
   "id": "quiet-zealand",
   "metadata": {},
   "outputs": [],
   "source": [
    "train1_pairs"
   ]
  },
  {
   "cell_type": "code",
   "execution_count": null,
   "id": "f62c9fae",
   "metadata": {},
   "outputs": [],
   "source": [
    "val1_pairs"
   ]
  },
  {
   "cell_type": "markdown",
   "id": "attended-topic",
   "metadata": {},
   "source": [
    "# Approach 2 - pairs of affordances and their objects"
   ]
  },
  {
   "cell_type": "code",
   "execution_count": null,
   "id": "violent-illinois",
   "metadata": {},
   "outputs": [],
   "source": [
    "def get_gold_data_2(table):\n",
    "    gold_data_pairs = []\n",
    "    for index, row in table.iterrows():\n",
    "        for i, value in enumerate(row):\n",
    "            if type(value) == str:\n",
    "                pass\n",
    "            else:\n",
    "                gold_data_pairs.append((table.index[0].lower(),table.columns[i].lower(),value))\n",
    "                \n",
    "    return gold_data_pairs"
   ]
  },
  {
   "cell_type": "code",
   "execution_count": null,
   "id": "partial-marking",
   "metadata": {},
   "outputs": [],
   "source": [
    "df2 = df.transpose()\n",
    "df2 = df2.sample(frac=1, random_state=42)\n",
    "df2.columns = df2.iloc[0]"
   ]
  },
  {
   "cell_type": "code",
   "execution_count": null,
   "id": "hawaiian-extreme",
   "metadata": {},
   "outputs": [],
   "source": [
    "train2 = df2[2:11]\n",
    "val2 = df2[11:14]\n",
    "test2 = df2[14:17]"
   ]
  },
  {
   "cell_type": "code",
   "execution_count": null,
   "id": "viral-migration",
   "metadata": {},
   "outputs": [],
   "source": [
    "train2"
   ]
  },
  {
   "cell_type": "code",
   "execution_count": null,
   "id": "alert-sullivan",
   "metadata": {},
   "outputs": [],
   "source": [
    "train2_pairs = get_gold_data_2(train2)\n",
    "val2_pairs = get_gold_data_2(val2)\n",
    "test2_pairs = get_gold_data_2(test2)"
   ]
  },
  {
   "cell_type": "code",
   "execution_count": null,
   "id": "traditional-italian",
   "metadata": {},
   "outputs": [],
   "source": [
    "train2_pairs"
   ]
  },
  {
   "cell_type": "markdown",
   "id": "6f47db84",
   "metadata": {},
   "source": [
    "# BERT Embeddings"
   ]
  },
  {
   "cell_type": "code",
   "execution_count": null,
   "id": "f61907b0",
   "metadata": {},
   "outputs": [],
   "source": [
    "tokenizer = BertTokenizer.from_pretrained('bert-base-uncased')"
   ]
  },
  {
   "cell_type": "code",
   "execution_count": null,
   "id": "130d2206",
   "metadata": {},
   "outputs": [],
   "source": [
    "def tokenize_string(text):\n",
    "    marked_text = \"[CLS] \" + text + \" [SEP]\"\n",
    "    return tokenizer.tokenize(marked_text)"
   ]
  },
  {
   "cell_type": "code",
   "execution_count": null,
   "id": "7e0cea3a",
   "metadata": {},
   "outputs": [],
   "source": [
    "bert_model = BertModel.from_pretrained('bert-base-uncased',\n",
    "                                  output_hidden_states = True, # Whether the model returns all hidden-states.\n",
    "                                  )"
   ]
  },
  {
   "cell_type": "code",
   "execution_count": null,
   "id": "5f320465",
   "metadata": {},
   "outputs": [],
   "source": [
    "bert_model.eval()"
   ]
  },
  {
   "cell_type": "code",
   "execution_count": null,
   "id": "6d39c16d",
   "metadata": {},
   "outputs": [],
   "source": [
    "bert_embeddings_dict = {} # I create this embeddings dictionary so I can easily map words to embeddings\n",
    "\n",
    "with torch.no_grad():\n",
    "    \n",
    "    for subset in [train1_pairs + val1_pairs + test1_pairs]:\n",
    "    \n",
    "        for obj, affordance, truth_val in subset:\n",
    "\n",
    "            if obj not in bert_embeddings_dict.keys():\n",
    "                tokenized_obj = tokenize_string(obj)\n",
    "                indexed_obj = tokenizer.convert_tokens_to_ids(tokenized_obj)\n",
    "                segments_ids = [1] * len(tokenized_obj)\n",
    "                tokens_tensor = torch.tensor([indexed_obj])\n",
    "                segments_tensor = torch.tensor([segments_ids])\n",
    "\n",
    "                outputs = bert_model(tokens_tensor, segments_tensor)\n",
    "                hidden_states = outputs[2]\n",
    "                token_vecs = hidden_states[-2][0] # I take the penultimate layer\n",
    "                obj_embedding = torch.mean(token_vecs, dim=0) # I take the mean over the vectors for each token to get a representation of the whole input\n",
    "\n",
    "                bert_embeddings_dict[obj] = obj_embedding\n",
    "\n",
    "            if affordance not in bert_embeddings_dict.keys():\n",
    "                tokenized_affordance = tokenize_string(affordance)\n",
    "                indexed_affordance = tokenizer.convert_tokens_to_ids(tokenized_affordance)\n",
    "                segments_ids = [1] * len(tokenized_affordance)\n",
    "                tokens_tensor = torch.tensor([indexed_affordance])\n",
    "                segments_tensor = torch.tensor([segments_ids])\n",
    "\n",
    "                outputs = bert_model(tokens_tensor, segments_tensor)\n",
    "                hidden_states = outputs[2]\n",
    "                token_vecs = hidden_states[-2][0]\n",
    "                affordance_embedding = torch.mean(token_vecs, dim=0)\n",
    "\n",
    "                bert_embeddings_dict[affordance] = affordance_embedding\n"
   ]
  },
  {
   "cell_type": "code",
   "execution_count": null,
   "id": "759a1e53",
   "metadata": {},
   "outputs": [],
   "source": [
    "bert_embeddings_dict['coffee cup']"
   ]
  },
  {
   "cell_type": "code",
   "execution_count": null,
   "id": "151a7e49",
   "metadata": {},
   "outputs": [],
   "source": [
    "bert_embeddings_dict['grasp'].size()"
   ]
  },
  {
   "cell_type": "code",
   "execution_count": null,
   "id": "307c9e91",
   "metadata": {},
   "outputs": [],
   "source": [
    "len(bert_embeddings_dict)"
   ]
  },
  {
   "cell_type": "markdown",
   "id": "bc434cfb",
   "metadata": {},
   "source": [
    "# Visual Bert Embeddings"
   ]
  },
  {
   "cell_type": "code",
   "execution_count": null,
   "id": "6a75b4a5",
   "metadata": {},
   "outputs": [],
   "source": [
    "visual_bert_model = VisualBertModel.from_pretrained(\"uclanlp/visualbert-vqa-coco-pre\",output_hidden_states=True)"
   ]
  },
  {
   "cell_type": "code",
   "execution_count": null,
   "id": "f6a86a7e",
   "metadata": {},
   "outputs": [],
   "source": [
    "visual_bert_embeddings_dict = {} # I create this embeddings dictionary so I can easily map words to embeddings\n",
    "\n",
    "with torch.no_grad():\n",
    "    \n",
    "    for subset in [train1_pairs + val1_pairs + test1_pairs]:\n",
    "    \n",
    "        for obj, affordance, truth_val in subset:\n",
    "\n",
    "            if obj not in visual_bert_embeddings_dict.keys():\n",
    "                tokenized_obj = tokenize_string(obj)\n",
    "                indexed_obj = tokenizer.convert_tokens_to_ids(tokenized_obj)\n",
    "                segments_ids = [1] * len(tokenized_obj)\n",
    "                tokens_tensor = torch.tensor([indexed_obj])\n",
    "                segments_tensor = torch.tensor([segments_ids])\n",
    "\n",
    "                outputs = visual_bert_model(tokens_tensor, segments_tensor)\n",
    "                hidden_states = outputs[2]\n",
    "                token_vecs = hidden_states[-2][0] # I take the penultimate layer\n",
    "                obj_embedding = torch.mean(token_vecs, dim=0) # I take the mean over the vectors for each token to get a representation of the whole input\n",
    "\n",
    "                visual_bert_embeddings_dict[obj] = obj_embedding\n",
    "\n",
    "            if affordance not in visual_bert_embeddings_dict.keys():\n",
    "                tokenized_affordance = tokenize_string(affordance)\n",
    "                indexed_affordance = tokenizer.convert_tokens_to_ids(tokenized_affordance)\n",
    "                segments_ids = [1] * len(tokenized_affordance)\n",
    "                tokens_tensor = torch.tensor([indexed_affordance])\n",
    "                segments_tensor = torch.tensor([segments_ids])\n",
    "\n",
    "                outputs = visual_bert_model(tokens_tensor, segments_tensor)\n",
    "                hidden_states = outputs[2]\n",
    "                token_vecs = hidden_states[-2][0]\n",
    "                affordance_embedding = torch.mean(token_vecs, dim=0)\n",
    "\n",
    "                visual_bert_embeddings_dict[affordance] = affordance_embedding"
   ]
  },
  {
   "cell_type": "code",
   "execution_count": null,
   "id": "ea606301",
   "metadata": {},
   "outputs": [],
   "source": [
    "visual_bert_embeddings_dict['coffee cup']"
   ]
  },
  {
   "cell_type": "code",
   "execution_count": null,
   "id": "e5ec218f",
   "metadata": {},
   "outputs": [],
   "source": [
    "len(visual_bert_embeddings_dict)"
   ]
  },
  {
   "cell_type": "markdown",
   "id": "fe5c586b",
   "metadata": {},
   "source": [
    "# The model"
   ]
  },
  {
   "cell_type": "code",
   "execution_count": null,
   "id": "b89607ad",
   "metadata": {},
   "outputs": [],
   "source": [
    "hyperparameters = {\"epochs\":2000,\n",
    "                   \"batch_size\":64,\n",
    "                   \"learning_rate\":0.005}"
   ]
  },
  {
   "cell_type": "code",
   "execution_count": null,
   "id": "8c27ad80",
   "metadata": {},
   "outputs": [],
   "source": [
    "class Probe(nn.Module):\n",
    "    def __init__(self):\n",
    "        super(Probe, self).__init__()\n",
    "        self.sigmoid = nn.Sigmoid()\n",
    "        self.fc = nn.Linear(768, 2)\n",
    "        self.softmax = nn.LogSoftmax(1)\n",
    "        \n",
    "    def forward(self, obj, affordance):\n",
    "        combined_vector = obj * affordance\n",
    "        x1 = self.sigmoid(combined_vector)\n",
    "        x2 = self.fc(x1)\n",
    "        output = self.softmax(x2)\n",
    "        return output"
   ]
  },
  {
   "cell_type": "markdown",
   "id": "b1fd19eb",
   "metadata": {},
   "source": [
    "## Dataloader BERT"
   ]
  },
  {
   "cell_type": "code",
   "execution_count": null,
   "id": "d27880a1",
   "metadata": {},
   "outputs": [],
   "source": [
    "embeddings_train_data = [(bert_embeddings_dict[x], bert_embeddings_dict[y], z) for x,y,z in train1_pairs]\n",
    "embeddings_val_data = [(bert_embeddings_dict[x], bert_embeddings_dict[y], z) for x,y,z in val1_pairs]\n",
    "embeddings_test_data = [(bert_embeddings_dict[x], bert_embeddings_dict[y], z) for x,y,z in test1_pairs]\n",
    "\n",
    "bert_train_dataloader = DataLoader(embeddings_train_data, batch_size=hyperparameters[\"batch_size\"], shuffle=True)\n",
    "bert_val_dataloader = DataLoader(embeddings_val_data, batch_size=hyperparameters[\"batch_size\"], shuffle=True)\n",
    "bert_test_dataloader = DataLoader(embeddings_test_data, batch_size=hyperparameters[\"batch_size\"], shuffle=True)"
   ]
  },
  {
   "cell_type": "markdown",
   "id": "226c8ddb",
   "metadata": {},
   "source": [
    "## Dataloader VisualBERT"
   ]
  },
  {
   "cell_type": "code",
   "execution_count": null,
   "id": "c1175b2e",
   "metadata": {},
   "outputs": [],
   "source": [
    "embeddings_train_data = [(visual_bert_embeddings_dict[x], visual_bert_embeddings_dict[y], z) for x,y,z in train1_pairs]\n",
    "embeddings_val_data = [(visual_bert_embeddings_dict[x], visual_bert_embeddings_dict[y], z) for x,y,z in val1_pairs]\n",
    "embeddings_test_data = [(visual_bert_embeddings_dict[x], visual_bert_embeddings_dict[y], z) for x,y,z in test1_pairs]\n",
    "\n",
    "visual_bert_train_dataloader = DataLoader(embeddings_train_data, batch_size=hyperparameters[\"batch_size\"], shuffle=True)\n",
    "visual_bert_val_dataloader = DataLoader(embeddings_val_data, batch_size=hyperparameters[\"batch_size\"], shuffle=True)\n",
    "visual_bert_test_dataloader = DataLoader(embeddings_test_data, batch_size=hyperparameters[\"batch_size\"], shuffle=True)"
   ]
  },
  {
   "cell_type": "markdown",
   "id": "dd282151",
   "metadata": {},
   "source": [
    "# Training"
   ]
  },
  {
   "cell_type": "code",
   "execution_count": null,
   "id": "ab8a27f0",
   "metadata": {},
   "outputs": [],
   "source": [
    "def plot_accuracy(epochs, train_acc, val_acc):\n",
    "    plt.title(\"Training and Validation Accuracy\")\n",
    "    plt.xlabel(\"Epochs\")\n",
    "    plt.ylabel(\"Accuracy\")\n",
    "    plt.plot(epochs, train_acc, label=\"Training Accuracy\")\n",
    "    plt.plot(epochs, val_acc, label=\"Validation Accuracy\")\n",
    "    plt.legend()\n",
    "    plt.show()\n",
    "    return"
   ]
  },
  {
   "cell_type": "code",
   "execution_count": null,
   "id": "748f3171",
   "metadata": {},
   "outputs": [],
   "source": [
    "def plot_loss(epochs, train_loss, val_loss):\n",
    "    plt.title(\"Training and Validation Loss\")\n",
    "    plt.xlabel(\"Epochs\")\n",
    "    plt.ylabel(\"Loss\")\n",
    "    plt.plot(epochs, train_loss, label=\"Training Loss\")\n",
    "    plt.plot(epochs, val_loss, label=\"Validation Loss\")\n",
    "    plt.legend()\n",
    "    plt.show()\n",
    "    return"
   ]
  },
  {
   "cell_type": "code",
   "execution_count": null,
   "id": "4a68c858",
   "metadata": {},
   "outputs": [],
   "source": [
    "probe = Probe()\n",
    "print(probe)\n",
    "\n",
    "criterion = nn.NLLLoss()\n",
    "optimizer = optim.Adam(\n",
    "    probe.parameters(),\n",
    "    lr=hyperparameters[\"learning_rate\"]\n",
    ")\n",
    "\n",
    "epoch_list = []\n",
    "val_loss_list = []\n",
    "train_loss_list = []\n",
    "total_loss = 0\n",
    "\n",
    "train_accuracy_list = []\n",
    "val_accuracy_list = []\n",
    "\n",
    "for epoch in range(hyperparameters[\"epochs\"]):\n",
    "    \n",
    "    # TRAIN LOOP\n",
    "    training_loss = 0\n",
    "    probe.train()\n",
    "    \n",
    "    epoch_accuracy = 0\n",
    "    \n",
    "    for i, batch in enumerate(bert_train_dataloader):\n",
    "        \n",
    "        obj = batch[0]\n",
    "        affordance = batch[1]\n",
    "        truth_value = batch[2]\n",
    "        \n",
    "        output = probe(obj, affordance)\n",
    "        loss = criterion(output,truth_value)\n",
    "        \n",
    "        loss.backward()\n",
    "        optimizer.step()\n",
    "        optimizer.zero_grad()\n",
    "        \n",
    "        total_loss += loss.item()\n",
    "        training_loss += loss.item()\n",
    "        \n",
    "        # calculate training accuracy\n",
    "        prediction = torch.argmax(output, dim=1)\n",
    "        correct_predictions = torch.eq(prediction,truth_value).long()\n",
    "        batch_accuracy = float(sum(correct_predictions)/len(correct_predictions))\n",
    "        epoch_accuracy += batch_accuracy\n",
    "    \n",
    "    # VALIDATION LOOP\n",
    "    validation_loss = 0\n",
    "    probe.eval()\n",
    "    \n",
    "    val_epoch_accuracy = 0\n",
    "    \n",
    "    for i, batch in enumerate(bert_val_dataloader):\n",
    "        \n",
    "        obj = batch[0]\n",
    "        affordance = batch[1]\n",
    "        truth_value = batch[2]\n",
    "        \n",
    "        output = probe(obj, affordance)\n",
    "        loss = criterion(output,truth_value)\n",
    "        validation_loss += loss.item()\n",
    "        \n",
    "        # calculate validation accuracy\n",
    "        prediction = torch.argmax(output, dim=1)\n",
    "        correct_predictions = torch.eq(prediction,truth_value).long()\n",
    "        batch_accuracy = float(sum(correct_predictions)/len(correct_predictions))\n",
    "        val_epoch_accuracy += batch_accuracy\n",
    "    \n",
    "    epoch_list.append(epoch+1)\n",
    "    training_loss_avg = training_loss/len(bert_train_dataloader)\n",
    "    train_loss_list.append(training_loss_avg)\n",
    "    validation_loss_avg = validation_loss/len(bert_val_dataloader)\n",
    "    val_loss_list.append(validation_loss_avg)\n",
    "    \n",
    "    train_accuracy_list.append(epoch_accuracy/len(bert_train_dataloader))\n",
    "    val_accuracy_list.append(val_epoch_accuracy/len(bert_val_dataloader))\n",
    "\n",
    "    print(\"Epoch: {}\".format(epoch+1))\n",
    "    print(\"Training loss: {}\".format(training_loss_avg))\n",
    "    print(\"Validation loss: {}\".format(validation_loss_avg))\n",
    "    print(\"Training accuracy: {}\".format(epoch_accuracy/len(bert_train_dataloader)))\n",
    "    print(\"Validation accuracy: {}\".format(val_epoch_accuracy/len(bert_val_dataloader)))\n",
    "    \n",
    "plot_loss(epoch_list, train_loss_list, val_loss_list)\n",
    "plot_accuracy(epoch_list, train_accuracy_list, val_accuracy_list)"
   ]
  },
  {
   "cell_type": "code",
   "execution_count": null,
   "id": "e51eee35",
   "metadata": {},
   "outputs": [],
   "source": []
  }
 ],
 "metadata": {
  "kernelspec": {
   "display_name": "Python 3 (ipykernel)",
   "language": "python",
   "name": "python3"
  },
  "language_info": {
   "codemirror_mode": {
    "name": "ipython",
    "version": 3
   },
   "file_extension": ".py",
   "mimetype": "text/x-python",
   "name": "python",
   "nbconvert_exporter": "python",
   "pygments_lexer": "ipython3",
   "version": "3.9.6"
  }
 },
 "nbformat": 4,
 "nbformat_minor": 5
}
